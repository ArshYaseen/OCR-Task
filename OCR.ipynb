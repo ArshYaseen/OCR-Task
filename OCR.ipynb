import pytesseract
from PIL import Image
import fitz  
import pandas as pd
import os


data_folder = "C:/Users/Bilal/Data"

ocr_data = []

for filename in os.listdir(data_folder):
    file_path = os.path.join(data_folder, filename)
    extracted_text = ""
    
    if filename.lower().endswith(('.jpg', '.jpeg', '.png')):
        image = Image.open(file_path)
        extracted_text = pytesseract.image_to_string(image)
    
    elif filename.lower().endswith('.pdf'):
        with fitz.open(file_path) as pdf:
            for page_num in range(pdf.page_count):
                page = pdf[page_num]
                extracted_text += page.get_text()

    ocr_data.append({
        "Filename": filename,
        "Text": extracted_text
    })

df = pd.DataFrame(ocr_data)
df.to_excel("extracted_text.xlsx", index=False)
print("OCR complete. Results saved to extracted_text.xlsx.")
